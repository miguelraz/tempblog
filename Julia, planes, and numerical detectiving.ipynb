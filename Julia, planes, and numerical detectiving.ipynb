{
 "cells": [
  {
   "cell_type": "markdown",
   "metadata": {},
   "source": [
    "# Floating point in the news, or becoming an amateur numerical detective by programming in Julia\n",
    "\n",
    "April 19, 2020\n",
    "\n",
    "#### In this notebook\n",
    "\n",
    "I will talk about a news article that nerdsniped me into using Julia, a really performant and easy programming language, to talk about the very first steps into the field of numerical analysis, aka, floating point arithmetic, and how Julia is a good fit for reasoning about these types of programs. You should be able to press `Shift+Enter` to run the code yourself, and add new cells with the toolbar. Try it out, and happy hacking!\n",
    "\n",
    "-mrg\n",
    "\n",
    "#### Things you'll learn\n",
    "\n",
    "- How to know get basic information about the numbers you use in Julia\n",
    "- Brief discussion about different ways of representing numbers with binary digits (bits!)\n",
    "\n",
    "#### Expected time: ~ 10 minutes\n",
    "\n",
    "#### Previous experience: None! All are welcome!\n",
    "\n",
    "You might have heard of a recent incident of planes needing to be turned on and off in order to combat a [nasty software bug](https://www.theregister.co.uk/2020/04/02/boeing_787_power_cycle_51_days_stale_data/):\n",
    "\n"
   ]
  },
  {
   "cell_type": "markdown",
   "metadata": {},
   "source": [
    "![pic](pic.png)"
   ]
  },
  {
   "cell_type": "markdown",
   "metadata": {},
   "source": [
    "Yikes. That's not cool. People on the friendly Julia (which you can join by [clicking here](https://slackinvite.julialang.org/), and ask questions to your heart's delight) were in a collective groan when I believe @dextorious suggested this was a software bug that had to with keeping the timers in milliseconds."
   ]
  },
  {
   "cell_type": "markdown",
   "metadata": {},
   "source": [
    "### lolwut"
   ]
  },
  {
   "cell_type": "markdown",
   "metadata": {},
   "source": [
    "This should sound bananas - Why would keeping the timer in milliseconds mean that a plane should be \"turned on and off again\"?"
   ]
  },
  {
   "cell_type": "markdown",
   "metadata": {},
   "source": [
    "To take a stab at answering that question, we need to understand they way in which computers deal with numbers, or at least the bare minimum introduction. This field includes Numerical Analysis and if you are interested, there is a free online course from MIT that [you can follow here](https://github.com/mitmath/18330). "
   ]
  },
  {
   "cell_type": "markdown",
   "metadata": {},
   "source": [
    "### Into the DevilIEEEsh details"
   ]
  },
  {
   "cell_type": "markdown",
   "metadata": {},
   "source": [
    "Computers have finite memory, and thus in order to store numbers, and have some notion of them being \"continuous\", something will have to give. There are many ways to do this, but it is devilishly hard to come up with a scheme that doesn't run into hellraising contradictions, see the [recent XKCD](https://xkcd.com/2295/) comic for an inkling into how this goes."
   ]
  },
  {
   "cell_type": "markdown",
   "metadata": {},
   "source": [
    "This means that there is some limit into how many numbers you can store in a certain amount of bits. If your computer happens to be a 64 bit architecture, you can store up to `2^64 - 1` different numbers."
   ]
  },
  {
   "cell_type": "code",
   "execution_count": 53,
   "metadata": {},
   "outputs": [
    {
     "data": {
      "text/plain": [
       "18446744073709551615"
      ]
     },
     "execution_count": 53,
     "metadata": {},
     "output_type": "execute_result"
    }
   ],
   "source": [
    "big(2)^64 - 1"
   ]
  },
  {
   "cell_type": "markdown",
   "metadata": {},
   "source": [
    "I used the `big(2)` so that Julia uses as many digits as it needs to perform that computation. Because Julia is an interactive programming language, I don't need to compile everytime I want to know something, I just need to ask Julia with a `?`:"
   ]
  },
  {
   "cell_type": "code",
   "execution_count": 22,
   "metadata": {},
   "outputs": [
    {
     "data": {
      "text/latex": [
       "\\begin{verbatim}\n",
       "maxintfloat(T=Float64)\n",
       "\\end{verbatim}\n",
       "The largest consecutive integer-valued floating-point number that is exactly represented in the given floating-point type \\texttt{T} (which defaults to \\texttt{Float64}).\n",
       "\n",
       "That is, \\texttt{maxintfloat} returns the smallest positive integer-valued floating-point number \\texttt{n} such that \\texttt{n+1} is \\emph{not} exactly representable in the type \\texttt{T}.\n",
       "\n",
       "When an \\texttt{Integer}-type value is needed, use \\texttt{Integer(maxintfloat(T))}.\n",
       "\n",
       "\\rule{\\textwidth}{1pt}\n",
       "\\begin{verbatim}\n",
       "maxintfloat(T, S)\n",
       "\\end{verbatim}\n",
       "The largest consecutive integer representable in the given floating-point type \\texttt{T} that also does not exceed the maximum integer representable by the integer type \\texttt{S}.  Equivalently, it is the minimum of \\texttt{maxintfloat(T)} and \\href{@ref}{\\texttt{typemax(S)}}.\n",
       "\n"
      ],
      "text/markdown": [
       "```\n",
       "maxintfloat(T=Float64)\n",
       "```\n",
       "\n",
       "The largest consecutive integer-valued floating-point number that is exactly represented in the given floating-point type `T` (which defaults to `Float64`).\n",
       "\n",
       "That is, `maxintfloat` returns the smallest positive integer-valued floating-point number `n` such that `n+1` is *not* exactly representable in the type `T`.\n",
       "\n",
       "When an `Integer`-type value is needed, use `Integer(maxintfloat(T))`.\n",
       "\n",
       "---\n",
       "\n",
       "```\n",
       "maxintfloat(T, S)\n",
       "```\n",
       "\n",
       "The largest consecutive integer representable in the given floating-point type `T` that also does not exceed the maximum integer representable by the integer type `S`.  Equivalently, it is the minimum of `maxintfloat(T)` and [`typemax(S)`](@ref).\n"
      ],
      "text/plain": [
       "  \u001b[38;5;81mmaxintfloat\u001b[0m(\u001b[0m\u001b[39mT\u001b[0m\u001b[38;5;197m=\u001b[0m\u001b[39mFloat64\u001b[0m\u001b[39m)\u001b[0m\u001b[39m\u001b[0m\n",
       "\n",
       "\n",
       "  The largest consecutive integer-valued floating-point number that is exactly\n",
       "  represented in the given floating-point type \u001b[36mT\u001b[39m (which defaults to \u001b[36mFloat64\u001b[39m).\n",
       "\n",
       "  That is, \u001b[36mmaxintfloat\u001b[39m returns the smallest positive integer-valued\n",
       "  floating-point number \u001b[36mn\u001b[39m such that \u001b[36mn+1\u001b[39m is \u001b[4mnot\u001b[24m exactly representable in the\n",
       "  type \u001b[36mT\u001b[39m.\n",
       "\n",
       "  When an \u001b[36mInteger\u001b[39m-type value is needed, use \u001b[36mInteger(maxintfloat(T))\u001b[39m.\n",
       "\n",
       "  ────────────────────────────────────────────────────────────────────────────\n",
       "\n",
       "  \u001b[38;5;81mmaxintfloat\u001b[0m(\u001b[0m\u001b[39mT\u001b[0m\u001b[39m,\u001b[0m \u001b[0m\u001b[39mS\u001b[0m\u001b[39m)\u001b[0m\u001b[39m\u001b[0m\n",
       "\n",
       "\n",
       "  The largest consecutive integer representable in the given floating-point\n",
       "  type \u001b[36mT\u001b[39m that also does not exceed the maximum integer representable by the\n",
       "  integer type \u001b[36mS\u001b[39m. Equivalently, it is the minimum of \u001b[36mmaxintfloat(T)\u001b[39m and\n",
       "  \u001b[36mtypemax(S)\u001b[39m."
      ]
     },
     "execution_count": 22,
     "metadata": {},
     "output_type": "execute_result"
    }
   ],
   "source": [
    "?maxintfloat(Float64)"
   ]
  },
  {
   "cell_type": "code",
   "execution_count": 23,
   "metadata": {},
   "outputs": [
    {
     "data": {
      "text/plain": [
       "2147483647"
      ]
     },
     "execution_count": 23,
     "metadata": {},
     "output_type": "execute_result"
    }
   ],
   "source": [
    "# I could also try the typemax function:\n",
    "typemax(Int32)"
   ]
  },
  {
   "cell_type": "markdown",
   "metadata": {},
   "source": [
    "And we can write a neat for loop for writing out the info on many of these \"out of the box types\":"
   ]
  },
  {
   "cell_type": "code",
   "execution_count": 64,
   "metadata": {},
   "outputs": [
    {
     "name": "stdout",
     "output_type": "stream",
     "text": [
      "Int8 127\n",
      "UInt8 255\n",
      "Int16 32767\n",
      "UInt16 65535\n",
      "Int32 2147483647\n",
      "UInt32 4294967295\n",
      "Int64 9223372036854775807\n",
      "UInt64 18446744073709551615\n"
     ]
    }
   ],
   "source": [
    "types = (Int8, UInt8, Int16, UInt16, Int32, UInt32, Int64, UInt64)\n",
    "for t in types\n",
    "    println(t, \" \",typemax(t))\n",
    "end"
   ]
  },
  {
   "cell_type": "markdown",
   "metadata": {},
   "source": [
    "### Hmmm...\n",
    "\n",
    "Now this starts to smell a bit fishy. It turns out, many programming languages and computer architectures default to using 32 bits for all their computation, which (let's guess!) can at most represent 2,147,483,647 distinct values. This might be a clue related to the nasty software bug that started this. Again, we can ask Julia what that looks like inside the machine with the `bitstring` function:"
   ]
  },
  {
   "cell_type": "code",
   "execution_count": 24,
   "metadata": {},
   "outputs": [
    {
     "data": {
      "text/plain": [
       "\"01111111111111111111111111111111\""
      ]
     },
     "execution_count": 24,
     "metadata": {},
     "output_type": "execute_result"
    }
   ],
   "source": [
    "bitstring(typemax(Int32))"
   ]
  },
  {
   "cell_type": "markdown",
   "metadata": {},
   "source": [
    "#### Whoops!\n",
    "\n",
    "Why is it that the maximum number it says it can represent doesn't use that first bit? It's missing out on a ton of digits!\n",
    "\n",
    "There's a good reason for this: bits are very, *very* expensive real estate when it comes down to computing, and it does make sense to cram in as much information as possible - but as always, there are tradeoffs, and you want to also be able to represent negative integers in the same format. You can, however, interpret those same 32 bits as a n integer format but without a sign bit easily as well, known as an *Unsigned integer*:"
   ]
  },
  {
   "cell_type": "code",
   "execution_count": 32,
   "metadata": {},
   "outputs": [
    {
     "data": {
      "text/plain": [
       "4294967295"
      ]
     },
     "execution_count": 32,
     "metadata": {},
     "output_type": "execute_result"
    }
   ],
   "source": [
    "typemax(UInt32) |> big # just some formatting shenanigans"
   ]
  },
  {
   "cell_type": "code",
   "execution_count": 29,
   "metadata": {},
   "outputs": [
    {
     "data": {
      "text/plain": [
       "\"11111111111111111111111111111111\""
      ]
     },
     "execution_count": 29,
     "metadata": {},
     "output_type": "execute_result"
    }
   ],
   "source": [
    "bitstring(typemax(UInt32))"
   ]
  },
  {
   "cell_type": "markdown",
   "metadata": {},
   "source": [
    "#### Key takeaway!\n",
    "\n",
    "The same bitstring can represent wildly different things. The first `Int32` represents Signed Integers up to 32 bits (with 1 for a sign bit), and `UInt32` means Unsigned Integer up to 32 bits. The important thing to keep in mind is that the *interpretation* of the bits matters, a lot, not just the bits per se. We call this interpretation it's data type. Tons of optimizations are available if you cram the information into the least amounts of bits possible, but you have to be **very** careful not to mess up the interpretations."
   ]
  },
  {
   "cell_type": "markdown",
   "metadata": {},
   "source": [
    "# So what's the bug?\n",
    "\n",
    "Let's try and hunt it down! First we'll write a function to calculate the number of seconds in a day:"
   ]
  },
  {
   "cell_type": "code",
   "execution_count": 38,
   "metadata": {},
   "outputs": [
    {
     "data": {
      "text/plain": [
       "86400000"
      ]
     },
     "execution_count": 38,
     "metadata": {},
     "output_type": "execute_result"
    }
   ],
   "source": [
    "# 1000 milliseconds in a second * 60 seconds in minute * 60 minutes in 1 hour * 24  hours in n days\n",
    "millis_in_days(n) = 1000*60*60*24*n\n",
    "millis_in_days(1)"
   ]
  },
  {
   "cell_type": "markdown",
   "metadata": {},
   "source": [
    "Now, the article said the planes needed to 51 days... "
   ]
  },
  {
   "cell_type": "code",
   "execution_count": 50,
   "metadata": {},
   "outputs": [
    {
     "data": {
      "text/plain": [
       "(4233600000, 4320000000)"
      ]
     },
     "execution_count": 50,
     "metadata": {},
     "output_type": "execute_result"
    }
   ],
   "source": [
    "t0 = millis_in_days(49)\n",
    "t1 = millis_in_days(50)\n",
    "t0,t1"
   ]
  },
  {
   "cell_type": "markdown",
   "metadata": {},
   "source": [
    "Which seems dangerously close to..."
   ]
  },
  {
   "cell_type": "code",
   "execution_count": 42,
   "metadata": {},
   "outputs": [
    {
     "data": {
      "text/plain": [
       "4294967295"
      ]
     },
     "execution_count": 42,
     "metadata": {},
     "output_type": "execute_result"
    }
   ],
   "source": [
    "t2 = typemax(UInt32) |> big"
   ]
  },
  {
   "cell_type": "markdown",
   "metadata": {},
   "source": [
    "And it least _seems_ suggests a plausible explanation: whoever wrote the code, relied on the number of millimeters to not exceed the maximum of `UInt32`. However... when that does happen..."
   ]
  },
  {
   "cell_type": "code",
   "execution_count": 66,
   "metadata": {},
   "outputs": [
    {
     "data": {
      "text/plain": [
       "0x00000000"
      ]
     },
     "execution_count": 66,
     "metadata": {},
     "output_type": "execute_result"
    }
   ],
   "source": [
    "typemax(UInt32) + UInt32(1)"
   ]
  },
  {
   "cell_type": "markdown",
   "metadata": {},
   "source": [
    "Which would be a sticky situation for a code that considers subsequent measurements of time to be increasing, and instead has \"wrapped around\" to 0.\n",
    "\n",
    "#### This is common!\n",
    "\n",
    "Remember, in finite memory, we have to use every bit to the max. There are a lot of useful applications to having this wrap-around behaviour - but you can also prevent it, at a great performance cost, with *over-flow* checks."
   ]
  },
  {
   "cell_type": "markdown",
   "metadata": {},
   "source": [
    "## Bonus!"
   ]
  },
  {
   "cell_type": "markdown",
   "metadata": {},
   "source": [
    "The article mentions other instances of nasty software bugs - Can you find any other \"likely\" causes of it by inspecting numbers and how they are represented? Maybe! "
   ]
  },
  {
   "cell_type": "markdown",
   "metadata": {},
   "source": [
    "1. 787s power down every 248 days.\n",
    "2. A350 Airbus had forced power cycles every 149 hours.\n"
   ]
  },
  {
   "cell_type": "code",
   "execution_count": 67,
   "metadata": {},
   "outputs": [
    {
     "data": {
      "text/plain": [
       "days_from_millis (generic function with 1 method)"
      ]
     },
     "execution_count": 67,
     "metadata": {},
     "output_type": "execute_result"
    }
   ],
   "source": [
    "# Last hint: I will give you this function:\n",
    "days_from_millis(n) = n / 86_400_000"
   ]
  },
  {
   "cell_type": "markdown",
   "metadata": {},
   "source": [
    "Try it out! If you get stuck, there's no shame in looking up the [Julia Manual for 1.4](https://docs.julialang.org/en/v1.5-dev/manual/integers-and-floating-point-numbers/) or asking friends on Slack/Discourse. We've barely scratched the surface of how computers represent numbers, there's a lot of cases to be solved if you want to jump into being a numerical detective!"
   ]
  },
  {
   "cell_type": "markdown",
   "metadata": {},
   "source": [
    "### Extra extra bonus points\n",
    "\n",
    "We basically used Julia here for some glorified calculations - that's cool, but not exactly revolutionary. What would be really cool would be to extend coders the ability to define their own representations of any floating point number, calculate stuff, and have it be performant. \n",
    "\n",
    "That's a much, much deeper dive, but if you feel like peeking into the numerical rabbithole, have a go and look at defining an number based on an [arbitrary radix, like ArbitraryRadixFloatingPoint.jl does](https://github.com/jiahao/ArbRadixFloatingPoints.jl), a package by Dr. Jiahao Chen."
   ]
  },
  {
   "cell_type": "code",
   "execution_count": null,
   "metadata": {},
   "outputs": [],
   "source": []
  }
 ],
 "metadata": {
  "kernelspec": {
   "display_name": "Julia 1.4.0",
   "language": "julia",
   "name": "julia-1.4"
  },
  "language_info": {
   "file_extension": ".jl",
   "mimetype": "application/julia",
   "name": "julia",
   "version": "1.4.0"
  }
 },
 "nbformat": 4,
 "nbformat_minor": 4
}
